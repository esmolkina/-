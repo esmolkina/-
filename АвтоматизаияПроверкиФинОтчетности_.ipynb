{
  "cells": [
    {
      "cell_type": "markdown",
      "source": [
        "Есть финансовый отчет о затратах в детализаии регион-бизнес, обновляемый ежемесячно. Данные из 1С предприятие и других источников, в том числе подготовленных вручную. Количество регионов 15, количество бизнесов 5.\n",
        "\n",
        "В отчете отражены фактические продажи в рублях и физических показателях - штуки, объем, вес, линии. Линия - это ассортиментная единица товара.\n",
        "\n",
        "Затраты представлены группами - затраты на сборку товара на складе по заказам покупателей, транспортные затраты, аренда помещений, эксплуатация помещений, затраты на упаковку, фонд оплаты труда, прочие операционные и прочие внереализационные расходы.\n",
        "\n",
        "Требуется проверять отчет на наличие ошибок, возникающих из-за неполной загрузки данных, а также из-за неверно предоставленной информации в файлах, подготовленных вручную.\n",
        "\n",
        "Идея автоматизации проверки в том, чтобы выявить скореллированные показатели за период 12 месяев назад от проверяемого, посчитать относительные показатели, например, рублевую выручку поделить на  проданные штуки, и по этим относительным показателям посчитать расстояние до среднего значения этого временного ряда из относительных показателей в стандартных отклонениях. Если расстояние до среднего превысит три стандартных отклонения, то имеет смысл проверить данные на наличие ошибки.\n",
        "\n"
      ],
      "metadata": {
        "id": "KppqPLSt5s3M"
      },
      "id": "KppqPLSt5s3M"
    },
    {
      "cell_type": "code",
      "execution_count": null,
      "id": "ee6cf83c",
      "metadata": {
        "id": "ee6cf83c"
      },
      "outputs": [],
      "source": [
        "import numpy as np\n",
        "import pandas as pd\n",
        "import seaborn as sns\n",
        "import matplotlib.pyplot as plt\n",
        "import scipy.stats as stats\n",
        "import warnings\n",
        "warnings.filterwarnings('ignore')"
      ]
    },
    {
      "cell_type": "code",
      "execution_count": null,
      "id": "be846085",
      "metadata": {
        "id": "be846085"
      },
      "outputs": [],
      "source": [
        "#N - строгость проверки (размер отклонения от среднего в сигмах)\n",
        "N = 3"
      ]
    },
    {
      "cell_type": "code",
      "execution_count": null,
      "id": "ef256420",
      "metadata": {
        "id": "ef256420"
      },
      "outputs": [],
      "source": [
        "#считываем затраты и показатели, соединяем в один фрейм\n",
        "df_z = pd.read_excel('Сводный.xlsx')\n",
        "df_q = pd.read_excel('Показатели.xlsx')\n"
      ]
    },
    {
      "cell_type": "code",
      "source": [
        "df = df_z.merge(df_q, on=['Month','Region','Business'], how='inner')\n",
        "df = df[(df['Month'] >= '2023-01-01')].sort_values(by  = ['Region','Month'])"
      ],
      "metadata": {
        "id": "T8gtmxuGOm0m"
      },
      "id": "T8gtmxuGOm0m",
      "execution_count": null,
      "outputs": []
    },
    {
      "cell_type": "code",
      "execution_count": null,
      "id": "d2c20cc2",
      "metadata": {
        "id": "d2c20cc2"
      },
      "outputs": [],
      "source": [
        "#считаем суммарный товарооборот для удобстав представления данных\n",
        "df.Sales_NDS = df.Sales_NDS + df.Sales_3PL_NDS\n",
        "\n",
        "df = df.drop(['Sales_3PL_NDS'],axis = 'columns')\n",
        "#df.head()"
      ]
    },
    {
      "cell_type": "code",
      "execution_count": null,
      "id": "6e6a78e6",
      "metadata": {
        "id": "6e6a78e6"
      },
      "outputs": [],
      "source": [
        "#создаем список бизнесов и регионов\n",
        "Business = pd.unique(df['Business'].tolist())\n",
        "Region = pd.unique(df['Region'].tolist())"
      ]
    },
    {
      "cell_type": "code",
      "execution_count": null,
      "id": "861f0442",
      "metadata": {
        "id": "861f0442"
      },
      "outputs": [],
      "source": [
        "#матрица МОДУЛЕЙ коэфф. корреляции - для определения основных и влияющих показателей\n",
        "df_corr = df.corr(numeric_only = True).abs()\n"
      ]
    },
    {
      "cell_type": "markdown",
      "source": [
        "Корреляционная матрица. По ней мы будем судить о том, зависимы ли показатели друг от друга."
      ],
      "metadata": {
        "id": "fxpl55J7NQYg"
      },
      "id": "fxpl55J7NQYg"
    },
    {
      "cell_type": "code",
      "execution_count": null,
      "id": "17538ed3-4d7d-480a-85e5-029997897206",
      "metadata": {
        "id": "17538ed3-4d7d-480a-85e5-029997897206",
        "outputId": "170e3ef6-a6cd-419b-9808-86020782bc75"
      },
      "outputs": [
        {
          "data": {
            "text/html": [
              "<div>\n",
              "<style scoped>\n",
              "    .dataframe tbody tr th:only-of-type {\n",
              "        vertical-align: middle;\n",
              "    }\n",
              "\n",
              "    .dataframe tbody tr th {\n",
              "        vertical-align: top;\n",
              "    }\n",
              "\n",
              "    .dataframe thead th {\n",
              "        text-align: right;\n",
              "    }\n",
              "</style>\n",
              "<table border=\"1\" class=\"dataframe\">\n",
              "  <thead>\n",
              "    <tr style=\"text-align: right;\">\n",
              "      <th></th>\n",
              "      <th>Unit_sold</th>\n",
              "      <th>Volume_sold</th>\n",
              "      <th>Sales_NDS</th>\n",
              "      <th>Sborka</th>\n",
              "      <th>Transport_Client</th>\n",
              "      <th>Transport_Region</th>\n",
              "      <th>Transport_Provider</th>\n",
              "      <th>Marketplaces</th>\n",
              "      <th>Еstate_rent</th>\n",
              "      <th>Exploitation</th>\n",
              "      <th>Рackaging</th>\n",
              "      <th>FOT</th>\n",
              "      <th>Operating_expenses</th>\n",
              "      <th>Non_operating_ expenses</th>\n",
              "      <th>Line</th>\n",
              "      <th>Unit</th>\n",
              "      <th>Box</th>\n",
              "      <th>Volume</th>\n",
              "      <th>Weight</th>\n",
              "    </tr>\n",
              "  </thead>\n",
              "  <tbody>\n",
              "    <tr>\n",
              "      <th>Unit_sold</th>\n",
              "      <td>1.000000</td>\n",
              "      <td>0.997158</td>\n",
              "      <td>0.964439</td>\n",
              "      <td>0.924247</td>\n",
              "      <td>0.936747</td>\n",
              "      <td>0.340065</td>\n",
              "      <td>0.939883</td>\n",
              "      <td>0.061712</td>\n",
              "      <td>0.845214</td>\n",
              "      <td>0.804472</td>\n",
              "      <td>0.948240</td>\n",
              "      <td>0.049853</td>\n",
              "      <td>0.911428</td>\n",
              "      <td>0.472312</td>\n",
              "      <td>0.926425</td>\n",
              "      <td>0.979654</td>\n",
              "      <td>0.982584</td>\n",
              "      <td>0.981462</td>\n",
              "      <td>0.979250</td>\n",
              "    </tr>\n",
              "    <tr>\n",
              "      <th>Volume_sold</th>\n",
              "      <td>0.997158</td>\n",
              "      <td>1.000000</td>\n",
              "      <td>0.974977</td>\n",
              "      <td>0.920928</td>\n",
              "      <td>0.931699</td>\n",
              "      <td>0.323265</td>\n",
              "      <td>0.952500</td>\n",
              "      <td>0.055622</td>\n",
              "      <td>0.831625</td>\n",
              "      <td>0.806901</td>\n",
              "      <td>0.953005</td>\n",
              "      <td>0.044649</td>\n",
              "      <td>0.911480</td>\n",
              "      <td>0.470842</td>\n",
              "      <td>0.922648</td>\n",
              "      <td>0.975724</td>\n",
              "      <td>0.981777</td>\n",
              "      <td>0.982308</td>\n",
              "      <td>0.981667</td>\n",
              "    </tr>\n",
              "    <tr>\n",
              "      <th>Sales_NDS</th>\n",
              "      <td>0.964439</td>\n",
              "      <td>0.974977</td>\n",
              "      <td>1.000000</td>\n",
              "      <td>0.915936</td>\n",
              "      <td>0.929183</td>\n",
              "      <td>0.315100</td>\n",
              "      <td>0.991658</td>\n",
              "      <td>0.037031</td>\n",
              "      <td>0.804664</td>\n",
              "      <td>0.811365</td>\n",
              "      <td>0.951811</td>\n",
              "      <td>0.067373</td>\n",
              "      <td>0.934186</td>\n",
              "      <td>0.473684</td>\n",
              "      <td>0.927349</td>\n",
              "      <td>0.954151</td>\n",
              "      <td>0.960131</td>\n",
              "      <td>0.966520</td>\n",
              "      <td>0.970670</td>\n",
              "    </tr>\n",
              "    <tr>\n",
              "      <th>Sborka</th>\n",
              "      <td>0.924247</td>\n",
              "      <td>0.920928</td>\n",
              "      <td>0.915936</td>\n",
              "      <td>1.000000</td>\n",
              "      <td>0.969597</td>\n",
              "      <td>0.535903</td>\n",
              "      <td>0.897604</td>\n",
              "      <td>0.035956</td>\n",
              "      <td>0.933627</td>\n",
              "      <td>0.819567</td>\n",
              "      <td>0.914317</td>\n",
              "      <td>0.040514</td>\n",
              "      <td>0.964835</td>\n",
              "      <td>0.436626</td>\n",
              "      <td>0.953431</td>\n",
              "      <td>0.942583</td>\n",
              "      <td>0.938366</td>\n",
              "      <td>0.940427</td>\n",
              "      <td>0.939488</td>\n",
              "    </tr>\n",
              "    <tr>\n",
              "      <th>Transport_Client</th>\n",
              "      <td>0.936747</td>\n",
              "      <td>0.931699</td>\n",
              "      <td>0.929183</td>\n",
              "      <td>0.969597</td>\n",
              "      <td>1.000000</td>\n",
              "      <td>0.533325</td>\n",
              "      <td>0.915666</td>\n",
              "      <td>0.021199</td>\n",
              "      <td>0.939542</td>\n",
              "      <td>0.815547</td>\n",
              "      <td>0.930720</td>\n",
              "      <td>0.036683</td>\n",
              "      <td>0.972834</td>\n",
              "      <td>0.459069</td>\n",
              "      <td>0.969519</td>\n",
              "      <td>0.961051</td>\n",
              "      <td>0.953068</td>\n",
              "      <td>0.955622</td>\n",
              "      <td>0.953145</td>\n",
              "    </tr>\n",
              "  </tbody>\n",
              "</table>\n",
              "</div>"
            ],
            "text/plain": [
              "                  Unit_sold  Volume_sold  Sales_NDS    Sborka  \\\n",
              "Unit_sold          1.000000     0.997158   0.964439  0.924247   \n",
              "Volume_sold        0.997158     1.000000   0.974977  0.920928   \n",
              "Sales_NDS          0.964439     0.974977   1.000000  0.915936   \n",
              "Sborka             0.924247     0.920928   0.915936  1.000000   \n",
              "Transport_Client   0.936747     0.931699   0.929183  0.969597   \n",
              "\n",
              "                  Transport_Client  Transport_Region  Transport_Provider  \\\n",
              "Unit_sold                 0.936747          0.340065            0.939883   \n",
              "Volume_sold               0.931699          0.323265            0.952500   \n",
              "Sales_NDS                 0.929183          0.315100            0.991658   \n",
              "Sborka                    0.969597          0.535903            0.897604   \n",
              "Transport_Client          1.000000          0.533325            0.915666   \n",
              "\n",
              "                  Marketplaces  Еstate_rent  Exploitation  Рackaging  \\\n",
              "Unit_sold             0.061712     0.845214      0.804472   0.948240   \n",
              "Volume_sold           0.055622     0.831625      0.806901   0.953005   \n",
              "Sales_NDS             0.037031     0.804664      0.811365   0.951811   \n",
              "Sborka                0.035956     0.933627      0.819567   0.914317   \n",
              "Transport_Client      0.021199     0.939542      0.815547   0.930720   \n",
              "\n",
              "                       FOT  Operating_expenses  Non_operating_ expenses  \\\n",
              "Unit_sold         0.049853            0.911428                 0.472312   \n",
              "Volume_sold       0.044649            0.911480                 0.470842   \n",
              "Sales_NDS         0.067373            0.934186                 0.473684   \n",
              "Sborka            0.040514            0.964835                 0.436626   \n",
              "Transport_Client  0.036683            0.972834                 0.459069   \n",
              "\n",
              "                      Line      Unit       Box    Volume    Weight  \n",
              "Unit_sold         0.926425  0.979654  0.982584  0.981462  0.979250  \n",
              "Volume_sold       0.922648  0.975724  0.981777  0.982308  0.981667  \n",
              "Sales_NDS         0.927349  0.954151  0.960131  0.966520  0.970670  \n",
              "Sborka            0.953431  0.942583  0.938366  0.940427  0.939488  \n",
              "Transport_Client  0.969519  0.961051  0.953068  0.955622  0.953145  "
            ]
          },
          "execution_count": 26,
          "metadata": {},
          "output_type": "execute_result"
        }
      ],
      "source": [
        "df_corr.head()"
      ]
    },
    {
      "cell_type": "markdown",
      "source": [
        "Функция приводит все числовые значения таблицы к единому масштабу методом Минимакс. Цель — преобразовать данные в диапазон [0..1],  чтобы все числовые признаки были равны в возможностях своего влияния друг на друга.\n",
        "\n",
        "Затем высчитываются соотношения основного параметра-признака и влияющих на него параметров. Это относительные показатели. Геометрический смысл относительного показателя - тангенс угла наклона прямой соединяющей начало координат с точкой данных (координаты точки -  это пара скореллированных показателей) и положительным направлением оси абсцисс.\n",
        "\n",
        "Если коэффииент корреляции двух показателей близок к единице, то точки на плоскости лежат вдоль прямой с конкретным углом наклона.\n",
        "\n",
        "Отклонение от этого угла мы и будем \"ловить\", это значит, что показатели рассинхронизированы, что-то \"пошло не так\", возможно выгружены не все данные или неверно отражены финансовые затраты."
      ],
      "metadata": {
        "id": "raLY9Zus-o_a"
      },
      "id": "raLY9Zus-o_a"
    },
    {
      "cell_type": "code",
      "execution_count": null,
      "id": "5a6c9a0a",
      "metadata": {
        "id": "5a6c9a0a"
      },
      "outputs": [],
      "source": [
        "#функция подсчета z оценок для каждого фрейма, главного параметра и влияющих на него параметров\n",
        "\n",
        "\n",
        "def estimation(df,main_parameter,Рarameters):\n",
        "\n",
        "    #отделяем числовую часть данных для нормализации\n",
        "    df_numbers = df.iloc[:,3:]\n",
        "    #сохраняем текстовую часть фрейма\n",
        "    df_head = df.iloc[:,0:3].reset_index()\n",
        "    #нормализация числовой части\n",
        "    from sklearn import preprocessing\n",
        "    scaler = preprocessing.MinMaxScaler()\n",
        "    names = df_numbers.columns\n",
        "    d = scaler.fit_transform(df_numbers)\n",
        "    scaled_df = pd.DataFrame(d, columns=names)\n",
        "    #собираем нормализованные и текстовые данные построчно справа\n",
        "    scaled_df = pd.concat([df_head, scaled_df],axis = 1)\n",
        "\n",
        "    #Перебираем все параметры для нормализованного фрейма данных\n",
        "    #Внутри каждого бизнеса и каждого региона считаем ОТНОШЕНИЕ основного показателя к влияющему параметру\n",
        "    #Методом z оценок ищем аномалии в созданном ряду чисел\n",
        "\n",
        "    df_new = pd.DataFrame()#пустой фрейм куда будем складывать строки с максимальными отклонениями\n",
        "\n",
        "\n",
        "    for parameter in Рarameters:\n",
        "\n",
        "        for  region in Region:\n",
        "\n",
        "             for  business in Business:\n",
        "\n",
        "                  scaled_df_temp = scaled_df[(scaled_df['Region'] == region) & (scaled_df['Business'] == business)]\n",
        "\n",
        "                  if scaled_df_temp.shape[0] > 6: #для датасетов больше шести мес ищем z-оценки, иначе не накоплена статистика, не с чем сравнить\n",
        "\n",
        "                    #отношение скоррелированных параметров = тангенс угла наклона прямой регрессии\n",
        "                    scaled_df_temp = scaled_df_temp.assign(fraction = lambda x: x[main_parameter] / x[parameter])\n",
        "\n",
        "                    scaled_df_temp = scaled_df_temp.fillna(0) #запоняю пустоту нулями\n",
        "                    scaled_df_temp.replace([np.inf , -np.inf ], 0 , inplace= True ) #если было деление на ноль, то меняю ошибку на число ноль\n",
        "\n",
        "                    #z оценки тангенсов угла наклона - то есть относительных показателей\n",
        "                    scaled_df_temp['zscore'] = stats.zscore(scaled_df_temp['fraction'])\n",
        "\n",
        "                    scaled_df_temp = scaled_df_temp[['Month','Region','Business','zscore']] #оставляю только нужные колонки\n",
        "\n",
        "                    scaled_df_temp['parametr2'] = parameter #наименование влияющего параметра мне тоже нужно\n",
        "\n",
        "\n",
        "                    df_new = pd.concat([df_new, scaled_df_temp],axis = 0) #сохраняю результат работы\n",
        "\n",
        "                  else:\n",
        "                     continue #датасеты  с недостаточным количеством данных пропускаем, они возникают когда появился новый регион или новый бизнес\n",
        "\n",
        "\n",
        "\n",
        "    df_new = df_new[(df_new['zscore'] > N)] #оставляем только значимые строки, где расстояние до среднего больше N сигм и имеет смысл проверять на наличие ошибок\n",
        "\n",
        "    return(df_new)"
      ]
    },
    {
      "cell_type": "code",
      "execution_count": null,
      "id": "844de972",
      "metadata": {
        "id": "844de972"
      },
      "outputs": [],
      "source": [
        "df_result = pd.DataFrame()#пустой фрейм куда будем складывать результаты работы функции на разных парах параметров"
      ]
    },
    {
      "cell_type": "markdown",
      "source": [
        "Берем первый физический показатель \"Продано, шт.\" и по Корреляционной матрице выбираем для него влияющие показатели, критерий - чтобы Коэффициент корреляции был близко к 1, именно поэтому не взяли  затраты ФОТ, услуги маркетплейсов, прочие внереализаионные расходы  -  там коэф = 0,47 и меньше.\n",
        "\n",
        "Применяем к полученной таблице функцию поиска ошибок и сохраняем результат."
      ],
      "metadata": {
        "id": "toeEvnBKGGaP"
      },
      "id": "toeEvnBKGGaP"
    },
    {
      "cell_type": "code",
      "execution_count": null,
      "id": "dd8eb0e7",
      "metadata": {
        "id": "dd8eb0e7"
      },
      "outputs": [],
      "source": [
        "#выбор зависимых показателей для \"Продано, шт.\" по первой строке матрицы корреляции\n",
        "\n",
        "df_unit_sold = df[['Month','Region','Business','Unit_sold',\n",
        "         'Sales_NDS',\n",
        "         'Sborka',\n",
        "         'Transport_Client',\n",
        "         'Transport_Provider',\n",
        "         'Еstate_rent',\n",
        "         'Operating_expenses',\n",
        "         'Line',\n",
        "         'Unit',\n",
        "         'Box',\n",
        "         'Volume',\n",
        "         'Weight' ]]\n",
        "\n",
        "\n",
        "#создаем список зависимых параметров для \"Продано,шт\"\n",
        "Рarameters_unit_sold = df_unit_sold.columns.tolist()[3:]\n",
        "\n",
        "#Применили функцию к \"Продано,шт\" и сохранили во временный фрейм\n",
        "df_temp = estimation(df_unit_sold, 'Unit_sold', Рarameters_unit_sold)\n",
        "\n",
        "#Добавили столбец с названием \"Продано,шт\" и сохранили в накопительный итоговый файл\n",
        "df_temp['parametr1'] = \"Unit_sold\"\n",
        "\n",
        "#сохранили результат работы функции в накопительный фрейм\n",
        "df_result = pd.concat([df_result,df_temp],axis = 0)"
      ]
    },
    {
      "cell_type": "markdown",
      "source": [
        "Берем физический показатель \"Продано, м3\" и подбираем для него скореллированные параметры. C каждым новым показателм список будет уменьшаться, тк нам не нужны дубликаты пар показателей, которые мы уже проверяли на предыдущем шаге."
      ],
      "metadata": {
        "id": "JVtXlirUHtaL"
      },
      "id": "JVtXlirUHtaL"
    },
    {
      "cell_type": "code",
      "execution_count": null,
      "id": "f91ab3aa",
      "metadata": {
        "id": "f91ab3aa"
      },
      "outputs": [],
      "source": [
        "#выбор зависимых показателей для \"Продано, м3\" по 2 строке матрицы корреляции\n",
        "\n",
        "df_volume_sold = df[['Month','Region','Business','Volume_sold',\n",
        "         'Sales_NDS',\n",
        "         'Sborka',\n",
        "         'Transport_Client',\n",
        "         'Transport_Provider',\n",
        "         'Еstate_rent',\n",
        "         'Operating_expenses',\n",
        "         'Line',\n",
        "         'Unit',\n",
        "         'Box',\n",
        "         'Volume',\n",
        "         'Weight']]\n",
        "\n",
        "#создаем список зависимых параметров для \"Продано,м3\"\n",
        "Рarameters_volume_sold = df_volume_sold.columns.tolist()[3:]\n",
        "\n",
        "#Применили функцию к \"Продано,м3\" и сохранили во временный фрейм\n",
        "df_temp = estimation(df_volume_sold,\"Volume_sold\", Рarameters_volume_sold)\n",
        "\n",
        "#Добавили столбец с названием \"Продано,м3\" и сохранили в накопительный итоговый файл\n",
        "df_temp['parametr1'] = \"Volume_sold\"\n",
        "\n",
        "#сохранили результат работы функции в накопительный фрейм\n",
        "df_result = pd.concat([df_result,df_temp],axis = 0)"
      ]
    },
    {
      "cell_type": "code",
      "execution_count": null,
      "id": "cec4ea63",
      "metadata": {
        "id": "cec4ea63"
      },
      "outputs": [],
      "source": [
        "#выбор зависимых показателей для \"Продажи с НДС\" по 3 строке матрицы корреляции\n",
        "\n",
        "df_sales_nds = df[['Month','Region','Business','Sales_NDS',\n",
        "                  'Sborka',\n",
        "                  'Transport_Client',\n",
        "                  'Transport_Provider',\n",
        "                  'Еstate_rent',\n",
        "                  'Operating_expenses',\n",
        "                  'Line',\n",
        "                  'Unit',\n",
        "                  'Box',\n",
        "                  'Volume',\n",
        "                  'Weight']]\n",
        "\n",
        "#создаем список зависимых параметров для \"Продано,м3\"\n",
        "Рarameters_sales_nds = df_sales_nds.columns.tolist()[3:]\n",
        "\n",
        "#Применили функцию к \"Продано,м3\" и сохранили во временный фрейм\n",
        "df_temp = estimation(df_sales_nds,\"Sales_NDS\", Рarameters_sales_nds)\n",
        "\n",
        "#Добавили столбец с названием \"Продажи с НДС\" и сохранили в накопительный итоговый файл\n",
        "df_temp['parametr1'] = \"Sales_NDS\"\n",
        "\n",
        "#сохранили результат работы функции в накопительный фрейм\n",
        "df_result = pd.concat([df_result,df_temp],axis = 0)"
      ]
    },
    {
      "cell_type": "code",
      "execution_count": null,
      "id": "623fe441",
      "metadata": {
        "id": "623fe441"
      },
      "outputs": [],
      "source": [
        "#выбор зависимых показателей для \"Стоимость сборки\" по 4 строке матрицы корреляции\n",
        "\n",
        "df_sborka = df[['Month','Region','Business','Sborka',\n",
        "                  'Transport_Client',\n",
        "                  'Transport_Provider',\n",
        "                  'Еstate_rent',\n",
        "                  'Operating_expenses',\n",
        "                  'Line',\n",
        "                  'Unit',\n",
        "                  'Box',\n",
        "                  'Volume',\n",
        "                  'Weight']]\n",
        "\n",
        "#создаем список зависимых параметров для \"Продано,м3\"\n",
        "Рarameters_sborka = df_sborka.columns.tolist()[3:]\n",
        "\n",
        "#Применили функцию к \"Стоимость сборки\" и сохранили во временный фрейм\n",
        "df_temp = estimation(df_sborka,\"Sborka\", Рarameters_sborka)\n",
        "\n",
        "#Добавили столбец с названием \"Продажи с НДС\" и сохранили в накопительный итоговый файл\n",
        "df_temp['parametr1'] = \"Sborka\"\n",
        "\n",
        "#сохранили результат работы функции в накопительный фрейм\n",
        "df_result = pd.concat([df_result,df_temp],axis = 0)"
      ]
    },
    {
      "cell_type": "code",
      "execution_count": null,
      "id": "d5d19c29",
      "metadata": {
        "id": "d5d19c29"
      },
      "outputs": [],
      "source": [
        "#выбор зависимых показателей для \"Транспорт до клиента\" по 5 строке матрицы корреляции\n",
        "\n",
        "df_transport_client = df[['Month','Region','Business','Transport_Client',\n",
        "                          'Transport_Provider',\n",
        "                          'Еstate_rent',\n",
        "                          'Operating_expenses',\n",
        "                          'Line',\n",
        "                          'Unit',\n",
        "                          'Box',\n",
        "                          'Volume',\n",
        "                          'Weight']]\n",
        "\n",
        "#создаем список зависимых параметров для \"Транспорт до клиента\"\n",
        "Рarameters_transport_client = df_transport_client.columns.tolist()[3:]\n",
        "\n",
        "#Применили функцию к \"Транспорт до клиента\" и сохранили во временный фрейм\n",
        "df_temp = estimation(df_transport_client,\"Transport_Client\", Рarameters_transport_client)\n",
        "\n",
        "#Добавили столбец с названием \"Продажи с НДС\" и сохранили в накопительный итоговый файл\n",
        "df_temp['parametr1'] = \"Transport_Client\"\n",
        "\n",
        "#сохранили результат работы функции в накопительный фрейм\n",
        "df_result = pd.concat([df_result,df_temp],axis = 0)"
      ]
    },
    {
      "cell_type": "code",
      "execution_count": null,
      "id": "40ab7db6",
      "metadata": {
        "id": "40ab7db6"
      },
      "outputs": [],
      "source": [
        "#выбор зависимых показателей для \"Транспорт от поставщика\" по 7 строке матрицы корреляции\n",
        "\n",
        "df_transport_provider = df[['Month','Region','Business','Transport_Provider',\n",
        "                            'Еstate_rent',\n",
        "                            'Operating_expenses',\n",
        "                            'Line',\n",
        "                            'Unit',\n",
        "                            'Box',\n",
        "                            'Volume',\n",
        "                            'Weight']]\n",
        "\n",
        "#создаем список зависимых параметров для \"Транспорт от поставщика\"\n",
        "Рarameters_transport_provider = df_transport_provider.columns.tolist()[3:]\n",
        "\n",
        "#Применили функцию к \"Транспорт от поставщика\" и сохранили во временный фрейм\n",
        "df_temp = estimation(df_transport_provider,\"Transport_Provider\", Рarameters_transport_provider)\n",
        "\n",
        "#Добавили столбец с названием \"Транспорт от поставщика\" и сохранили в накопительный итоговый файл\n",
        "df_temp['parametr1'] = \"Transport_Provider\"\n",
        "\n",
        "#сохранили результат работы функции в накопительный фрейм\n",
        "df_result = pd.concat([df_result,df_temp],axis = 0)"
      ]
    },
    {
      "cell_type": "code",
      "execution_count": null,
      "id": "939c0e51",
      "metadata": {
        "id": "939c0e51"
      },
      "outputs": [],
      "source": [
        "#выбор зависимых показателей для \"Затраты на аренду\" по 9 строке матрицы корреляции\n",
        "\n",
        "df_estate_rent = df[['Month','Region','Business','Еstate_rent',\n",
        "                            'Operating_expenses',\n",
        "                            'Line']]\n",
        "\n",
        "#создаем список зависимых параметров для \"Транспорт от поставщика\"\n",
        "Рarameters_estate_rent = df_estate_rent.columns.tolist()[3:]\n",
        "\n",
        "#Применили функцию к \"Транспорт от поставщика\" и сохранили во временный фрейм\n",
        "df_temp = estimation(df_estate_rent,\"Еstate_rent\", Рarameters_estate_rent)\n",
        "\n",
        "#Добавили столбец с названием \"Транспорт от поставщика\" и сохранили в накопительный итоговый файл\n",
        "df_temp['parametr1'] = \"Еstate_rent\"\n",
        "\n",
        "#сохранили результат работы функции в накопительный фрейм\n",
        "df_result = pd.concat([df_result,df_temp],axis = 0)"
      ]
    },
    {
      "cell_type": "code",
      "execution_count": null,
      "id": "3df2c4a2",
      "metadata": {
        "id": "3df2c4a2"
      },
      "outputs": [],
      "source": [
        "#выбор зависимых показателей для \"Операционные расходы\" по 13 строке матрицы корреляции\n",
        "\n",
        "df_operating_expenses = df[['Month','Region','Business','Operating_expenses',\n",
        "                            'Line',\n",
        "                            'Unit',\n",
        "                            'Box',\n",
        "                            'Volume',\n",
        "                            'Weight']]\n",
        "\n",
        "#создаем список зависимых параметров для \"Операционные расходы\"\n",
        "Рarameters_operating_expenses = df_operating_expenses.columns.tolist()[3:]\n",
        "\n",
        "#Применили функцию к \"Операционные расходы\" и сохранили во временный фрейм\n",
        "df_temp = estimation(df_operating_expenses,\"Operating_expenses\", Рarameters_operating_expenses)\n",
        "\n",
        "#Добавили столбец с названием \"Операционные расходы\" и сохранили в накопительный итоговый файл\n",
        "df_temp['parametr1'] = \"Operating_expenses\"\n",
        "\n",
        "#сохранили результат работы функции в накопительный фрейм\n",
        "df_result = pd.concat([df_result,df_temp],axis = 0)"
      ]
    },
    {
      "cell_type": "code",
      "execution_count": null,
      "id": "2c2ca2cf",
      "metadata": {
        "id": "2c2ca2cf"
      },
      "outputs": [],
      "source": [
        "#выбор зависимых показателей для \"Линии\" по 15 строке матрицы корреляции\n",
        "\n",
        "df_line = df[['Month','Region','Business','Line',\n",
        "                            'Unit',\n",
        "                            'Box',\n",
        "                            'Volume',\n",
        "                            'Weight']]\n",
        "\n",
        "#создаем список зависимых параметров для \"Линии\"\n",
        "Рarameters_line = df_line.columns.tolist()[3:]\n",
        "\n",
        "#Применили функцию к \"Линии\" и сохранили во временный фрейм\n",
        "df_temp = estimation(df_line,\"Line\", Рarameters_line)\n",
        "\n",
        "#Добавили столбец с названием \"Линии\" и сохранили в накопительный итоговый файл\n",
        "df_temp['parametr1'] = \"Line\"\n",
        "\n",
        "#сохранили результат работы функции в накопительный фрейм\n",
        "df_result = pd.concat([df_result,df_temp],axis = 0)"
      ]
    },
    {
      "cell_type": "markdown",
      "source": [
        "Теперь у нас есть полный список всех проверенных пар показателей, с отобранными значениями, \"подозреваемыми на ошибки\" за полный период 12 месяцев. Но нам нужны только данные проверяемного месяца, так как предполагается что в прошлых периодах все проверено и исправлено, и если есть необычные значения, то они не являются ошибочными."
      ],
      "metadata": {
        "id": "-1b58-uNIOGf"
      },
      "id": "-1b58-uNIOGf"
    },
    {
      "cell_type": "code",
      "execution_count": null,
      "id": "874b431d",
      "metadata": {
        "id": "874b431d"
      },
      "outputs": [],
      "source": [
        "#сортируем по убыванию оценок\n",
        "#оставляем только последний месяц\n",
        "MaxMonth = df_result['Month'].max()\n",
        "df_result = df_result[(df_result['Month'] == MaxMonth) ]\n",
        "\n",
        "df_result = df_result.sort_values(by = 'zscore',ascending = False)"
      ]
    },
    {
      "cell_type": "markdown",
      "source": [
        "Результат - список регионов\\бизнесов\\пар показателей, которые показали необычное соотношение друг к другу в проверяемом периоде. Например, Спб\\ бюджетный рынок\\ количество проданных штук и затраты на сборку нужно проверить, возможно недогружены данные или неверно отражены затраты.\n",
        "\n",
        "Повторяющиеся пары регион\\бизнес говорят не только об ошибке, но и, как вариант о том, что продана необычная партия товара, например очень крупная, по которой все затраты существенно меньше чем в прошлых периодах из-за оптовых условий отгрузки.\n",
        "\n",
        "То есть не все \"подозреваемые\" действительно оказываются ошибками.\n",
        "Но таким образом были выявлены скрытые ошибки, когда в системе 1С Предприятие были сделаны изменения, о которых никто не узнал своевременно, а именно - физические показатели продаж начали считаться по другому алгоритму при сохранении порядка затрат. Метод показал рассинхрон показателей с затратами и ошибка была исправлена."
      ],
      "metadata": {
        "id": "2Lodcqg7JNo3"
      },
      "id": "2Lodcqg7JNo3"
    },
    {
      "cell_type": "code",
      "execution_count": null,
      "id": "88e4e756",
      "metadata": {
        "id": "88e4e756",
        "outputId": "00f25ad8-dce3-401f-dec1-1c74c8cac3b9"
      },
      "outputs": [
        {
          "data": {
            "text/html": [
              "<div>\n",
              "<style scoped>\n",
              "    .dataframe tbody tr th:only-of-type {\n",
              "        vertical-align: middle;\n",
              "    }\n",
              "\n",
              "    .dataframe tbody tr th {\n",
              "        vertical-align: top;\n",
              "    }\n",
              "\n",
              "    .dataframe thead th {\n",
              "        text-align: right;\n",
              "    }\n",
              "</style>\n",
              "<table border=\"1\" class=\"dataframe\">\n",
              "  <thead>\n",
              "    <tr style=\"text-align: right;\">\n",
              "      <th></th>\n",
              "      <th>Month</th>\n",
              "      <th>Region</th>\n",
              "      <th>Business</th>\n",
              "      <th>zscore</th>\n",
              "      <th>parametr2</th>\n",
              "      <th>parametr1</th>\n",
              "    </tr>\n",
              "  </thead>\n",
              "  <tbody>\n",
              "    <tr>\n",
              "      <th>586</th>\n",
              "      <td>2024-03-01</td>\n",
              "      <td>Санкт-Петербург</td>\n",
              "      <td>Дистрибуция на бюджетном рынке</td>\n",
              "      <td>3.453743</td>\n",
              "      <td>Unit</td>\n",
              "      <td>Sborka</td>\n",
              "    </tr>\n",
              "    <tr>\n",
              "      <th>586</th>\n",
              "      <td>2024-03-01</td>\n",
              "      <td>Санкт-Петербург</td>\n",
              "      <td>Дистрибуция на бюджетном рынке</td>\n",
              "      <td>3.286474</td>\n",
              "      <td>Unit</td>\n",
              "      <td>Transport_Provider</td>\n",
              "    </tr>\n",
              "    <tr>\n",
              "      <th>586</th>\n",
              "      <td>2024-03-01</td>\n",
              "      <td>Санкт-Петербург</td>\n",
              "      <td>Дистрибуция на бюджетном рынке</td>\n",
              "      <td>3.110857</td>\n",
              "      <td>Unit</td>\n",
              "      <td>Volume_sold</td>\n",
              "    </tr>\n",
              "    <tr>\n",
              "      <th>586</th>\n",
              "      <td>2024-03-01</td>\n",
              "      <td>Санкт-Петербург</td>\n",
              "      <td>Дистрибуция на бюджетном рынке</td>\n",
              "      <td>3.050419</td>\n",
              "      <td>Volume</td>\n",
              "      <td>Sborka</td>\n",
              "    </tr>\n",
              "    <tr>\n",
              "      <th>586</th>\n",
              "      <td>2024-03-01</td>\n",
              "      <td>Санкт-Петербург</td>\n",
              "      <td>Дистрибуция на бюджетном рынке</td>\n",
              "      <td>3.036408</td>\n",
              "      <td>Line</td>\n",
              "      <td>Sborka</td>\n",
              "    </tr>\n",
              "  </tbody>\n",
              "</table>\n",
              "</div>"
            ],
            "text/plain": [
              "         Month           Region                        Business    zscore  \\\n",
              "586 2024-03-01  Санкт-Петербург  Дистрибуция на бюджетном рынке  3.453743   \n",
              "586 2024-03-01  Санкт-Петербург  Дистрибуция на бюджетном рынке  3.286474   \n",
              "586 2024-03-01  Санкт-Петербург  Дистрибуция на бюджетном рынке  3.110857   \n",
              "586 2024-03-01  Санкт-Петербург  Дистрибуция на бюджетном рынке  3.050419   \n",
              "586 2024-03-01  Санкт-Петербург  Дистрибуция на бюджетном рынке  3.036408   \n",
              "\n",
              "    parametr2           parametr1  \n",
              "586      Unit              Sborka  \n",
              "586      Unit  Transport_Provider  \n",
              "586      Unit         Volume_sold  \n",
              "586    Volume              Sborka  \n",
              "586      Line              Sborka  "
            ]
          },
          "execution_count": 22,
          "metadata": {},
          "output_type": "execute_result"
        }
      ],
      "source": [
        "df_result.head(20)"
      ]
    }
  ],
  "metadata": {
    "kernelspec": {
      "display_name": "Python 3 (ipykernel)",
      "language": "python",
      "name": "python3"
    },
    "language_info": {
      "codemirror_mode": {
        "name": "ipython",
        "version": 3
      },
      "file_extension": ".py",
      "mimetype": "text/x-python",
      "name": "python",
      "nbconvert_exporter": "python",
      "pygments_lexer": "ipython3",
      "version": "3.11.7"
    },
    "colab": {
      "provenance": []
    }
  },
  "nbformat": 4,
  "nbformat_minor": 5
}