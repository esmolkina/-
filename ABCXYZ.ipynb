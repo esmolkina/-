{
  "cells": [
    {
      "cell_type": "markdown",
      "metadata": {
        "id": "view-in-github",
        "colab_type": "text"
      },
      "source": [
        "<a href=\"https://colab.research.google.com/github/esmolkina/-/blob/main/ABCXYZ.ipynb\" target=\"_parent\"><img src=\"https://colab.research.google.com/assets/colab-badge.svg\" alt=\"Open In Colab\"/></a>"
      ]
    },
    {
      "cell_type": "markdown",
      "id": "4b950240",
      "metadata": {
        "id": "4b950240"
      },
      "source": [
        "Есть данные о продажах препаратов в аптеке - дата продажи, количество, закупочная, розничная цена.\n",
        "Нужно сделать АВС анализ по трем параметрам - кво проданных единниц, выручка, прибыль и сопоставить эти категории с вариативностью продаж по XYZ анализу для выработки стратегии продвижения\n",
        "Границы классов АВС делаю зависящими от прараметров, а не 80 и 95% - для оптимального распределения номенклатуры по классам\n",
        "\n",
        "Идея по консолидации классов АВС многомерного анализа из статьи https://habr.com/ru/articles/811991/"
      ]
    },
    {
      "cell_type": "code",
      "execution_count": null,
      "id": "377e4ccf",
      "metadata": {
        "id": "377e4ccf"
      },
      "outputs": [],
      "source": [
        "import numpy as np\n",
        "import pandas as pd\n",
        "import seaborn as sns\n",
        "import matplotlib.pyplot as plt"
      ]
    },
    {
      "cell_type": "code",
      "execution_count": null,
      "id": "e7e47731",
      "metadata": {
        "id": "e7e47731"
      },
      "outputs": [],
      "source": [
        "upper_level = 0.95\n",
        "middle_level = 0.8"
      ]
    },
    {
      "cell_type": "code",
      "execution_count": null,
      "id": "5cb464c8",
      "metadata": {
        "id": "5cb464c8",
        "outputId": "36f70d70-c0f9-4c93-b277-7bec5bced362"
      },
      "outputs": [
        {
          "data": {
            "text/html": [
              "<div>\n",
              "<style scoped>\n",
              "    .dataframe tbody tr th:only-of-type {\n",
              "        vertical-align: middle;\n",
              "    }\n",
              "\n",
              "    .dataframe tbody tr th {\n",
              "        vertical-align: top;\n",
              "    }\n",
              "\n",
              "    .dataframe thead th {\n",
              "        text-align: right;\n",
              "    }\n",
              "</style>\n",
              "<table border=\"1\" class=\"dataframe\">\n",
              "  <thead>\n",
              "    <tr style=\"text-align: right;\">\n",
              "      <th></th>\n",
              "      <th>DR_Dat</th>\n",
              "      <th>DR_NDrugs</th>\n",
              "      <th>DR_Kol</th>\n",
              "      <th>DR_CZak</th>\n",
              "      <th>DR_CRoz</th>\n",
              "    </tr>\n",
              "  </thead>\n",
              "  <tbody>\n",
              "    <tr>\n",
              "      <th>0</th>\n",
              "      <td>2022-08-01</td>\n",
              "      <td>ГАСТАЛ №12 ТАБ. Д/РАСС.</td>\n",
              "      <td>1.0</td>\n",
              "      <td>196.71</td>\n",
              "      <td>270.0</td>\n",
              "    </tr>\n",
              "    <tr>\n",
              "      <th>1</th>\n",
              "      <td>2022-08-01</td>\n",
              "      <td>ТОБРОПТ 0,3% 5МЛ. №1 ГЛ.КАПЛИ ФЛ./КАП. /РОМФАРМ/</td>\n",
              "      <td>1.0</td>\n",
              "      <td>106.21</td>\n",
              "      <td>127.0</td>\n",
              "    </tr>\n",
              "  </tbody>\n",
              "</table>\n",
              "</div>"
            ],
            "text/plain": [
              "      DR_Dat                                         DR_NDrugs  DR_Kol  \\\n",
              "0 2022-08-01                           ГАСТАЛ №12 ТАБ. Д/РАСС.     1.0   \n",
              "1 2022-08-01  ТОБРОПТ 0,3% 5МЛ. №1 ГЛ.КАПЛИ ФЛ./КАП. /РОМФАРМ/     1.0   \n",
              "\n",
              "   DR_CZak  DR_CRoz  \n",
              "0   196.71    270.0  \n",
              "1   106.21    127.0  "
            ]
          },
          "execution_count": 3,
          "metadata": {},
          "output_type": "execute_result"
        }
      ],
      "source": [
        "df = pd.read_excel('ABCXYZ.xlsx',usecols = ('DR_Dat', 'DR_NDrugs','DR_Kol', 'DR_CZak','DR_CRoz'))\n",
        "\n",
        "df.head(2)"
      ]
    },
    {
      "cell_type": "code",
      "execution_count": null,
      "id": "241bbd39",
      "metadata": {
        "id": "241bbd39",
        "outputId": "f0ba96ac-2956-4309-f874-33fa82f01b70"
      },
      "outputs": [
        {
          "data": {
            "text/html": [
              "<div>\n",
              "<style scoped>\n",
              "    .dataframe tbody tr th:only-of-type {\n",
              "        vertical-align: middle;\n",
              "    }\n",
              "\n",
              "    .dataframe tbody tr th {\n",
              "        vertical-align: top;\n",
              "    }\n",
              "\n",
              "    .dataframe thead th {\n",
              "        text-align: right;\n",
              "    }\n",
              "</style>\n",
              "<table border=\"1\" class=\"dataframe\">\n",
              "  <thead>\n",
              "    <tr style=\"text-align: right;\">\n",
              "      <th></th>\n",
              "      <th>DR_NDrugs</th>\n",
              "      <th>DR_Kol</th>\n",
              "      <th>DR_CZak</th>\n",
              "      <th>DR_CRoz</th>\n",
              "      <th>profit</th>\n",
              "    </tr>\n",
              "  </thead>\n",
              "  <tbody>\n",
              "    <tr>\n",
              "      <th>0</th>\n",
              "      <td>911-ВЕНОЛГОН ГЕЛЬ Д/НОГ ПРИ ТЯЖЕСТИ,БОЛИ,ОТЕКА...</td>\n",
              "      <td>1.0</td>\n",
              "      <td>75.81</td>\n",
              "      <td>120.0</td>\n",
              "      <td>0.58</td>\n",
              "    </tr>\n",
              "    <tr>\n",
              "      <th>1</th>\n",
              "      <td>911-ГЕЛЬ-БАЛЬЗАМ Д/НОГ КОНСКИЙ КАШТАН 100МЛ. ТУБА</td>\n",
              "      <td>1.0</td>\n",
              "      <td>66.40</td>\n",
              "      <td>105.0</td>\n",
              "      <td>0.58</td>\n",
              "    </tr>\n",
              "  </tbody>\n",
              "</table>\n",
              "</div>"
            ],
            "text/plain": [
              "                                           DR_NDrugs  DR_Kol  DR_CZak  \\\n",
              "0  911-ВЕНОЛГОН ГЕЛЬ Д/НОГ ПРИ ТЯЖЕСТИ,БОЛИ,ОТЕКА...     1.0    75.81   \n",
              "1  911-ГЕЛЬ-БАЛЬЗАМ Д/НОГ КОНСКИЙ КАШТАН 100МЛ. ТУБА     1.0    66.40   \n",
              "\n",
              "   DR_CRoz  profit  \n",
              "0    120.0    0.58  \n",
              "1    105.0    0.58  "
            ]
          },
          "execution_count": 4,
          "metadata": {},
          "output_type": "execute_result"
        }
      ],
      "source": [
        "#считаю суммарные продажи для всех наименований, для АВС анализа по трем параметрам\n",
        "df_abc = df.groupby('DR_NDrugs').agg({'DR_Kol':'sum',\n",
        "                                      'DR_CZak':'sum',\n",
        "                                      'DR_CRoz':'sum'}).reset_index()\n",
        "#считаю прибыль как долю наценки в розничной цене\n",
        "df_abc['profit'] = round((df_abc['DR_CRoz'] - df_abc['DR_CZak'])/df_abc['DR_CZak'],2)\n",
        "df_abc.head(2)"
      ]
    },
    {
      "cell_type": "code",
      "execution_count": null,
      "id": "0aa2aa01",
      "metadata": {
        "id": "0aa2aa01"
      },
      "outputs": [],
      "source": [
        "#многомерный авс анализ по столбцам columns\n",
        "def abc(df, columns):\n",
        "\n",
        "    for col in columns:\n",
        "\n",
        "        df[f'rel_{col}'] = df[col] / df[col].sum() #доля строки в общей сумме столбца\n",
        "\n",
        "        df = df.sort_values(f'rel_{col}',ascending = False) #сортировка по убыванию доли строки в общей сумме\n",
        "\n",
        "        df[f'cumsum_{col}'] = df[f'rel_{col}'].cumsum() #сумма доли строки накопительным итогом\n",
        "\n",
        "        df[f'abc_{col}'] = np.where(df[f'cumsum_{col}'] < middle_level, 'A',\n",
        "                                    np.where(df[f'cumsum_{col}'] < upper_level, 'B', 'C')) #присвоение категорий АВС\n",
        "\n",
        "\n",
        "    return df"
      ]
    },
    {
      "cell_type": "code",
      "execution_count": null,
      "id": "21e2178e",
      "metadata": {
        "id": "21e2178e"
      },
      "outputs": [],
      "source": [
        "#функция рисует распределение классов column с учетом наполненности номенклатурами\n",
        "def graph_class(df, column):\n",
        "\n",
        "    df['count'] = df.groupby(column)['DR_NDrugs'].transform('count') #наполненность класса номенклатурами\n",
        "    df = df.sort_values(by = 'count', ascending = False)\n",
        "\n",
        "    names = list(df[column]) #список классов\n",
        "\n",
        "    plt.figure(figsize=(10,4))\n",
        "\n",
        "    plt.hist(df[column], color = '#56B4E9', edgecolor = 'black',\n",
        "             bins = int(180/5), label=names)\n",
        "\n",
        "    plt.xticks(rotation=90)\n",
        "\n",
        "    plt.title('Распределение классов ')\n",
        "    plt.xlabel('Классы')\n",
        "    plt.ylabel('Наполненность класса')\n",
        "\n",
        "    plt.show();\n",
        ""
      ]
    },
    {
      "cell_type": "code",
      "execution_count": null,
      "id": "bc0f2596",
      "metadata": {
        "id": "bc0f2596",
        "outputId": "6b452d9c-1f7d-4f76-f265-c7bc9d941b5c"
      },
      "outputs": [
        {
          "data": {
            "image/png": "[encoded data removed]",
            "text/plain": [
              "<Figure size 1000x400 with 1 Axes>"
            ]
          },
          "metadata": {},
          "output_type": "display_data"
        }
      ],
      "source": [
        "#применяю функцию многомерного АВС анализа по количеству продаж, товарообороту, прибыли\n",
        "df_abc = abc(df_abc, ['DR_Kol', 'DR_CRoz', 'profit']).sort_values(by = 'profit', ascending = False)\n",
        "\n",
        "#композиция классов по трем параметрам\n",
        "df_abc['ABC'] = df_abc['abc_DR_Kol'] + df_abc['abc_DR_CRoz'] + df_abc['abc_profit']\n",
        "\n",
        "#распределение классификации ABC всех наименований\n",
        "graph_class(df_abc, 'ABC')"
      ]
    },
    {
      "cell_type": "code",
      "execution_count": null,
      "id": "b0085ea4",
      "metadata": {
        "id": "b0085ea4"
      },
      "outputs": [],
      "source": [
        "#функция определяет сводную категорию в зависимости от сочетания классов\n",
        "#А - основной товар\n",
        "#B - вспомогательный товар для наполнения ассортиментной матрицы\n",
        "#С - товар под заказ покупателя\n",
        "#Out - товар выводится из ассортимента\n",
        "\n",
        "def category(arg):\n",
        "    categories = {\n",
        "        \"AAA\": 'A', \"AAB\": 'A', \"ABA\": 'A', \"ABB\": 'A',\n",
        "        \"ACA\": 'A', \"BAA\": 'A', \"BBA\": 'A',\n",
        "        \"AAC\": 'B', \"ABC\": 'B', \"ACB\": 'B', \"ACC\": 'B',\n",
        "        \"BAB\": 'B', \"BAC\": 'B', \"BBB\": 'B', \"BBC\": 'B',\n",
        "        \"BCA\": 'B', \"CAA\": 'B', \"CAB\": 'B', \"CBA\": 'B',\n",
        "        \"BCB\": 'C', \"BCC\": 'C', \"CAC\": 'C',\n",
        "        \"CBB\": 'C', \"CBC\": 'C'\n",
        "    }\n",
        "    return categories.get(arg, 'Out')\n",
        "\n",
        "df_abc['ABC_union'] = df_abc['ABC'].apply(category)"
      ]
    },
    {
      "cell_type": "code",
      "execution_count": null,
      "id": "704b93b4",
      "metadata": {
        "id": "704b93b4",
        "outputId": "58a1713b-c015-4232-d4bd-f3839698e2f0"
      },
      "outputs": [
        {
          "name": "stdout",
          "output_type": "stream",
          "text": [
            "Количество классов в объединенной АВС классификации:  4\n"
          ]
        }
      ],
      "source": [
        "print('Количество классов в объединенной АВС классификации: ', df_abc['ABC_union'].nunique())"
      ]
    },
    {
      "cell_type": "code",
      "execution_count": null,
      "id": "bccf35fd",
      "metadata": {
        "id": "bccf35fd",
        "outputId": "02080cff-284b-4060-d396-7ab0618b8be9"
      },
      "outputs": [
        {
          "data": {
            "text/plain": [
              "0.00    0.956413\n",
              "0.47    0.012453\n",
              "0.71    0.002491\n",
              "0.28    0.002491\n",
              "0.35    0.002491\n",
              "1.38    0.001245\n",
              "0.62    0.001245\n",
              "1.36    0.001245\n",
              "0.43    0.001245\n",
              "0.20    0.001245\n",
              "1.14    0.001245\n",
              "0.79    0.001245\n",
              "0.24    0.001245\n",
              "0.38    0.001245\n",
              "0.69    0.001245\n",
              "1.07    0.001245\n",
              "0.58    0.001245\n",
              "0.76    0.001245\n",
              "0.61    0.001245\n",
              "0.89    0.001245\n",
              "0.64    0.001245\n",
              "0.49    0.001245\n",
              "1.16    0.001245\n",
              "0.25    0.001245\n",
              "Name: var, dtype: float64"
            ]
          },
          "execution_count": 10,
          "metadata": {},
          "output_type": "execute_result"
        }
      ],
      "source": [
        "#считаю вариативность количества продаж по датам для всех наименований, для XYZ анализа\n",
        "df_xyz = df.groupby('DR_NDrugs').agg(avg_col = ('DR_Kol','mean'),\n",
        "                                    std_col = ('DR_Kol','std')).reset_index().fillna(0)\n",
        "\n",
        "\n",
        "df_xyz['var']  =  round(df_xyz['std_col']/df_xyz['avg_col'],2)\n",
        "\n",
        "#смотрю как раcпределена вариантивность\n",
        "#больше всего строк с нулевой вариативностью, тк данные за неполный месяц и продажи единичные\n",
        "#в этом случае стандартное отклонение не посчитано и обнулено\n",
        "df_xyz['var'].value_counts(normalize = True)"
      ]
    },
    {
      "cell_type": "code",
      "execution_count": null,
      "id": "41b980ec",
      "metadata": {
        "id": "41b980ec"
      },
      "outputs": [],
      "source": [
        "#функция классификации XYZ - границы делаю исходя из распределения вариативности проданного количества\n",
        "def xyz(df, column):\n",
        "\n",
        "     df['XYZ'] = np.where(df[column] == 0.0, 'X',\n",
        "                    np.where(df[column] < 0.47, 'Y', 'Z'))\n",
        "\n",
        "     return df"
      ]
    },
    {
      "cell_type": "code",
      "execution_count": null,
      "id": "0476645b",
      "metadata": {
        "id": "0476645b",
        "outputId": "3eff0a2a-b8d4-46fd-bb8b-0a1b26e51a22"
      },
      "outputs": [
        {
          "data": {
            "text/plain": [
              "X    0.956413\n",
              "Z    0.032379\n",
              "Y    0.011208\n",
              "Name: XYZ, dtype: float64"
            ]
          },
          "execution_count": 12,
          "metadata": {},
          "output_type": "execute_result"
        }
      ],
      "source": [
        "df_xyz = xyz(df_xyz,'var')\n",
        "df_xyz['XYZ'].value_counts(normalize = True)"
      ]
    },
    {
      "cell_type": "markdown",
      "id": "d68ae6ee",
      "metadata": {
        "id": "d68ae6ee"
      },
      "source": [
        "Объединяю маркировки классов АВС и XYZ"
      ]
    },
    {
      "cell_type": "code",
      "execution_count": null,
      "id": "20285695",
      "metadata": {
        "id": "20285695",
        "outputId": "29ba5077-5298-4578-9894-de53fb0a717c"
      },
      "outputs": [
        {
          "data": {
            "text/html": [
              "<div>\n",
              "<style scoped>\n",
              "    .dataframe tbody tr th:only-of-type {\n",
              "        vertical-align: middle;\n",
              "    }\n",
              "\n",
              "    .dataframe tbody tr th {\n",
              "        vertical-align: top;\n",
              "    }\n",
              "\n",
              "    .dataframe thead th {\n",
              "        text-align: right;\n",
              "    }\n",
              "</style>\n",
              "<table border=\"1\" class=\"dataframe\">\n",
              "  <thead>\n",
              "    <tr style=\"text-align: right;\">\n",
              "      <th></th>\n",
              "      <th>DR_NDrugs</th>\n",
              "      <th>DR_Kol</th>\n",
              "      <th>DR_CZak</th>\n",
              "      <th>DR_CRoz</th>\n",
              "      <th>profit</th>\n",
              "      <th>ABC_union</th>\n",
              "      <th>XYZ</th>\n",
              "      <th>ABCXYZ</th>\n",
              "    </tr>\n",
              "  </thead>\n",
              "  <tbody>\n",
              "    <tr>\n",
              "      <th>0</th>\n",
              "      <td>ЛЕЙКОПЛАСТЫРЬ БАКТЕР. 2,5Х7,2 №1 /ВЕРОФАРМ/</td>\n",
              "      <td>68.0</td>\n",
              "      <td>16.64</td>\n",
              "      <td>32.0</td>\n",
              "      <td>0.92</td>\n",
              "      <td>A</td>\n",
              "      <td>Z</td>\n",
              "      <td>AZ</td>\n",
              "    </tr>\n",
              "    <tr>\n",
              "      <th>1</th>\n",
              "      <td>КОНТЕЙНЕР Д/СБОРА БИОМАТЕРИАЛА 120МЛ. УНИВЕРС....</td>\n",
              "      <td>2.0</td>\n",
              "      <td>15.76</td>\n",
              "      <td>28.0</td>\n",
              "      <td>0.78</td>\n",
              "      <td>A</td>\n",
              "      <td>X</td>\n",
              "      <td>AX</td>\n",
              "    </tr>\n",
              "    <tr>\n",
              "      <th>2</th>\n",
              "      <td>АСКОРБИНОВАЯ К-ТА 25МГ. ЯБЛОКО №10 ТАБ. КРУТКА...</td>\n",
              "      <td>3.0</td>\n",
              "      <td>20.58</td>\n",
              "      <td>36.0</td>\n",
              "      <td>0.75</td>\n",
              "      <td>A</td>\n",
              "      <td>X</td>\n",
              "      <td>AX</td>\n",
              "    </tr>\n",
              "  </tbody>\n",
              "</table>\n",
              "</div>"
            ],
            "text/plain": [
              "                                           DR_NDrugs  DR_Kol  DR_CZak  \\\n",
              "0        ЛЕЙКОПЛАСТЫРЬ БАКТЕР. 2,5Х7,2 №1 /ВЕРОФАРМ/    68.0    16.64   \n",
              "1  КОНТЕЙНЕР Д/СБОРА БИОМАТЕРИАЛА 120МЛ. УНИВЕРС....     2.0    15.76   \n",
              "2  АСКОРБИНОВАЯ К-ТА 25МГ. ЯБЛОКО №10 ТАБ. КРУТКА...     3.0    20.58   \n",
              "\n",
              "   DR_CRoz  profit ABC_union XYZ ABCXYZ  \n",
              "0     32.0    0.92         A   Z     AZ  \n",
              "1     28.0    0.78         A   X     AX  \n",
              "2     36.0    0.75         A   X     AX  "
            ]
          },
          "execution_count": 13,
          "metadata": {},
          "output_type": "execute_result"
        }
      ],
      "source": [
        "df_res = df_abc[['DR_NDrugs','DR_Kol','DR_CZak','DR_CRoz','profit','ABC_union']].merge(df_xyz[['DR_NDrugs','XYZ']], on = ['DR_NDrugs'])\n",
        "\n",
        "df_res['ABCXYZ'] = df_res['ABC_union'] + df_res['XYZ']\n",
        "\n",
        "df_res.head(3)"
      ]
    },
    {
      "cell_type": "code",
      "execution_count": null,
      "id": "4d30bafc",
      "metadata": {
        "id": "4d30bafc",
        "outputId": "fdbce8c0-609a-4ec0-a2b8-69dd53be0231"
      },
      "outputs": [
        {
          "data": {
            "image/png": "[encoded data removed]",
            "text/plain": [
              "<Figure size 1000x400 with 1 Axes>"
            ]
          },
          "metadata": {},
          "output_type": "display_data"
        }
      ],
      "source": [
        "#итоговое распределение классов АВСXYZ анализа\n",
        "graph_class(df_res, 'ABCXYZ')"
      ]
    },
    {
      "cell_type": "code",
      "execution_count": null,
      "id": "2575f8b3",
      "metadata": {
        "id": "2575f8b3",
        "outputId": "259e9e8c-78b7-4c3a-a18e-5cff148554fa"
      },
      "outputs": [
        {
          "name": "stdout",
          "output_type": "stream",
          "text": [
            "Количество классов в ABCXYZ классификации: 9\n"
          ]
        }
      ],
      "source": [
        "print('Количество классов в ABCXYZ классификации:', df_res['ABCXYZ'].nunique())"
      ]
    },
    {
      "cell_type": "markdown",
      "id": "c7e2f138",
      "metadata": {
        "id": "c7e2f138"
      },
      "source": [
        "Присоединяю описания классов и методов работы с ними к готовому списку номенклатуры"
      ]
    },
    {
      "cell_type": "code",
      "execution_count": null,
      "id": "69058d17",
      "metadata": {
        "id": "69058d17",
        "outputId": "d304f500-1142-4c70-b9f5-e080713efa3d"
      },
      "outputs": [
        {
          "data": {
            "text/html": [
              "<div>\n",
              "<style scoped>\n",
              "    .dataframe tbody tr th:only-of-type {\n",
              "        vertical-align: middle;\n",
              "    }\n",
              "\n",
              "    .dataframe tbody tr th {\n",
              "        vertical-align: top;\n",
              "    }\n",
              "\n",
              "    .dataframe thead th {\n",
              "        text-align: right;\n",
              "    }\n",
              "</style>\n",
              "<table border=\"1\" class=\"dataframe\">\n",
              "  <thead>\n",
              "    <tr style=\"text-align: right;\">\n",
              "      <th></th>\n",
              "      <th>DR_NDrugs</th>\n",
              "      <th>DR_Kol</th>\n",
              "      <th>DR_CZak</th>\n",
              "      <th>DR_CRoz</th>\n",
              "      <th>profit</th>\n",
              "      <th>ABCXYZ</th>\n",
              "      <th>Описание класса</th>\n",
              "      <th>Рекомендации для класса</th>\n",
              "    </tr>\n",
              "  </thead>\n",
              "  <tbody>\n",
              "    <tr>\n",
              "      <th>0</th>\n",
              "      <td>ЛЕЙКОПЛАСТЫРЬ БАКТЕР. 2,5Х7,2 №1 /ВЕРОФАРМ/</td>\n",
              "      <td>68.0</td>\n",
              "      <td>16.64</td>\n",
              "      <td>32.0</td>\n",
              "      <td>0.92</td>\n",
              "      <td>AZ</td>\n",
              "      <td>Высокий ранг, спонтанный спрос, трудно прогноз...</td>\n",
              "      <td>Закупки под заказ, без страхового запаса, длин...</td>\n",
              "    </tr>\n",
              "    <tr>\n",
              "      <th>1</th>\n",
              "      <td>ЛЕЙКОПЛАСТЫРЬ БАКТЕР. 6X10 №1 /ВЕРОФАРМ/</td>\n",
              "      <td>13.0</td>\n",
              "      <td>9.24</td>\n",
              "      <td>16.0</td>\n",
              "      <td>0.73</td>\n",
              "      <td>AZ</td>\n",
              "      <td>Высокий ранг, спонтанный спрос, трудно прогноз...</td>\n",
              "      <td>Закупки под заказ, без страхового запаса, длин...</td>\n",
              "    </tr>\n",
              "    <tr>\n",
              "      <th>2</th>\n",
              "      <td>КОНТЕЙНЕР Д/СБОРА БИОМАТЕРИАЛА 60МЛ. +ШПАТЕЛЬ ...</td>\n",
              "      <td>3.0</td>\n",
              "      <td>13.92</td>\n",
              "      <td>24.0</td>\n",
              "      <td>0.72</td>\n",
              "      <td>AZ</td>\n",
              "      <td>Высокий ранг, спонтанный спрос, трудно прогноз...</td>\n",
              "      <td>Закупки под заказ, без страхового запаса, длин...</td>\n",
              "    </tr>\n",
              "    <tr>\n",
              "      <th>3</th>\n",
              "      <td>ЛЕЙКОПЛАСТЫРЬ БАКТЕР. 4Х10 №1 /ВЕРОФАРМ/</td>\n",
              "      <td>14.0</td>\n",
              "      <td>10.54</td>\n",
              "      <td>18.0</td>\n",
              "      <td>0.71</td>\n",
              "      <td>AZ</td>\n",
              "      <td>Высокий ранг, спонтанный спрос, трудно прогноз...</td>\n",
              "      <td>Закупки под заказ, без страхового запаса, длин...</td>\n",
              "    </tr>\n",
              "    <tr>\n",
              "      <th>4</th>\n",
              "      <td>ПЕРЕКИСЬ ВОДОРОДА 3% 100МЛ. №1 Р-Р ДЕЗ.СР-ВО Ф...</td>\n",
              "      <td>13.0</td>\n",
              "      <td>70.14</td>\n",
              "      <td>119.0</td>\n",
              "      <td>0.70</td>\n",
              "      <td>AZ</td>\n",
              "      <td>Высокий ранг, спонтанный спрос, трудно прогноз...</td>\n",
              "      <td>Закупки под заказ, без страхового запаса, длин...</td>\n",
              "    </tr>\n",
              "  </tbody>\n",
              "</table>\n",
              "</div>"
            ],
            "text/plain": [
              "                                           DR_NDrugs  DR_Kol  DR_CZak  \\\n",
              "0        ЛЕЙКОПЛАСТЫРЬ БАКТЕР. 2,5Х7,2 №1 /ВЕРОФАРМ/    68.0    16.64   \n",
              "1           ЛЕЙКОПЛАСТЫРЬ БАКТЕР. 6X10 №1 /ВЕРОФАРМ/    13.0     9.24   \n",
              "2  КОНТЕЙНЕР Д/СБОРА БИОМАТЕРИАЛА 60МЛ. +ШПАТЕЛЬ ...     3.0    13.92   \n",
              "3           ЛЕЙКОПЛАСТЫРЬ БАКТЕР. 4Х10 №1 /ВЕРОФАРМ/    14.0    10.54   \n",
              "4  ПЕРЕКИСЬ ВОДОРОДА 3% 100МЛ. №1 Р-Р ДЕЗ.СР-ВО Ф...    13.0    70.14   \n",
              "\n",
              "   DR_CRoz  profit ABCXYZ                                    Описание класса  \\\n",
              "0     32.0    0.92     AZ  Высокий ранг, спонтанный спрос, трудно прогноз...   \n",
              "1     16.0    0.73     AZ  Высокий ранг, спонтанный спрос, трудно прогноз...   \n",
              "2     24.0    0.72     AZ  Высокий ранг, спонтанный спрос, трудно прогноз...   \n",
              "3     18.0    0.71     AZ  Высокий ранг, спонтанный спрос, трудно прогноз...   \n",
              "4    119.0    0.70     AZ  Высокий ранг, спонтанный спрос, трудно прогноз...   \n",
              "\n",
              "                             Рекомендации для класса  \n",
              "0  Закупки под заказ, без страхового запаса, длин...  \n",
              "1  Закупки под заказ, без страхового запаса, длин...  \n",
              "2  Закупки под заказ, без страхового запаса, длин...  \n",
              "3  Закупки под заказ, без страхового запаса, длин...  \n",
              "4  Закупки под заказ, без страхового запаса, длин...  "
            ]
          },
          "execution_count": 20,
          "metadata": {},
          "output_type": "execute_result"
        }
      ],
      "source": [
        "directory = pd.read_excel('Справочник.xlsx')\n",
        "\n",
        "#список колонок, которые мне нужны для выгрузки результата\n",
        "columns = ['DR_NDrugs','DR_Kol','DR_CZak','DR_CRoz','profit', 'ABCXYZ']\n",
        "\n",
        "df_res = df_res[columns].merge(directory, on = 'ABCXYZ')\n",
        "df_res.head()"
      ]
    },
    {
      "cell_type": "code",
      "execution_count": null,
      "id": "c85ff022",
      "metadata": {
        "id": "c85ff022"
      },
      "outputs": [],
      "source": [
        "df_res.to_csv(\"ABCXYZ_result.csv\", index=False, sep=\";\")"
      ]
    },
    {
      "cell_type": "code",
      "execution_count": null,
      "id": "23032942",
      "metadata": {
        "id": "23032942"
      },
      "outputs": [],
      "source": []
    }
  ],
  "metadata": {
    "kernelspec": {
      "display_name": "Python 3 (ipykernel)",
      "language": "python",
      "name": "python3"
    },
    "language_info": {
      "codemirror_mode": {
        "name": "ipython",
        "version": 3
      },
      "file_extension": ".py",
      "mimetype": "text/x-python",
      "name": "python",
      "nbconvert_exporter": "python",
      "pygments_lexer": "ipython3",
      "version": "3.11.4"
    },
    "colab": {
      "provenance": [],
      "include_colab_link": true
    }
  },
  "nbformat": 4,
  "nbformat_minor": 5
}